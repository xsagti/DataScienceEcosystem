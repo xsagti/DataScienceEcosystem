{
 "cells": [
  {
   "cell_type": "markdown",
   "id": "86974830",
   "metadata": {},
   "source": [
    "# Data Science Tools and Ecosystem"
   ]
  },
  {
   "cell_type": "markdown",
   "id": "d7efc956",
   "metadata": {},
   "source": [
    "In this notebook, Data Science Tools and Ecosystem are summarized."
   ]
  },
  {
   "cell_type": "markdown",
   "id": "3c38101d",
   "metadata": {},
   "source": [
    "**Objectives:**\n",
    "    \n",
    "List popular languages for Data Science\n",
    "\n",
    " - Python\n",
    " - RStudio\n",
    " - Julia"
   ]
  },
  {
   "cell_type": "markdown",
   "id": "0f99dd2d",
   "metadata": {},
   "source": [
    "Some of the popular languages that Data Scientists use are:\n",
    "    \n",
    "    1 Python\n",
    "    2 R\n",
    "    3 Julia"
   ]
  },
  {
   "cell_type": "markdown",
   "id": "a3fe2b7c",
   "metadata": {},
   "source": [
    "Some of the commonly used libraries used by Data Scientists include:\n",
    "    \n",
    "    1 Pandas\n",
    "    2 NumPy\n",
    "    3 Matplotlib"
   ]
  },
  {
   "cell_type": "markdown",
   "id": "9c96ba00",
   "metadata": {},
   "source": [
    "| Data Science Tools |\n",
    "| ------------------ |\n",
    "| Jupyter Lab |\n",
    "| RStudio |\n",
    "| Visual Studio Code |\n"
   ]
  },
  {
   "cell_type": "markdown",
   "id": "d994c795",
   "metadata": {},
   "source": [
    "## Below are a few examples of evaluating arithmetic expressions in Python"
   ]
  },
  {
   "cell_type": "code",
   "execution_count": 1,
   "id": "3adb9af0",
   "metadata": {},
   "outputs": [
    {
     "data": {
      "text/plain": [
       "17"
      ]
     },
     "execution_count": 1,
     "metadata": {},
     "output_type": "execute_result"
    }
   ],
   "source": [
    "# This a simple arithmetic expression to mutiply then add integers\n",
    "\n",
    "(3*4)+5"
   ]
  },
  {
   "cell_type": "code",
   "execution_count": 2,
   "id": "b9298803",
   "metadata": {},
   "outputs": [
    {
     "data": {
      "text/plain": [
       "33.333333333333336"
      ]
     },
     "execution_count": 2,
     "metadata": {},
     "output_type": "execute_result"
    }
   ],
   "source": [
    "# This will convert 200 minutes to hours by diving by 60\n",
    "\n",
    "200/6"
   ]
  },
  {
   "cell_type": "code",
   "execution_count": null,
   "id": "4f6e9875",
   "metadata": {},
   "outputs": [],
   "source": [
    "## Author\n",
    "\n",
    "Xavier Viloca"
   ]
  },
  {
   "cell_type": "code",
   "execution_count": null,
   "id": "734278d5",
   "metadata": {},
   "outputs": [],
   "source": []
  }
 ],
 "metadata": {
  "kernelspec": {
   "display_name": "Python 3 (ipykernel)",
   "language": "python",
   "name": "python3"
  },
  "language_info": {
   "codemirror_mode": {
    "name": "ipython",
    "version": 3
   },
   "file_extension": ".py",
   "mimetype": "text/x-python",
   "name": "python",
   "nbconvert_exporter": "python",
   "pygments_lexer": "ipython3",
   "version": "3.11.4"
  }
 },
 "nbformat": 4,
 "nbformat_minor": 5
}
